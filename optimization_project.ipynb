{
 "cells": [
  {
   "cell_type": "code",
   "execution_count": 1,
   "metadata": {},
   "outputs": [],
   "source": [
    "import pulp"
   ]
  },
  {
   "cell_type": "code",
   "execution_count": 2,
   "metadata": {},
   "outputs": [],
   "source": [
    "# Initialize model class\n",
    "model = pulp.LpProblem(\"Cost Minimization problem\", pulp.LpMinimize)"
   ]
  },
  {
   "cell_type": "code",
   "execution_count": 3,
   "metadata": {},
   "outputs": [],
   "source": [
    "# Define production variables\n",
    "prod_IRN = pulp.LpVariable('prod_IRN', lowBound=0, cat='Continuous') # production of Crude oil in Iran\n",
    "prod_BRN = pulp.LpVariable('prod_BRN', lowBound=0, cat='Continuous') # production of Crude oil in Brunei\n",
    "\n",
    "# Define refinery variables\n",
    "\n",
    "# In Australia\n",
    "ref_AUS_BL = pulp.LpVariable('ref_AUS_BL', lowBound=0, cat='Continuous') # refinery in Australia of Crude oil from Brunei, Low intensity\n",
    "ref_AUS_BH = pulp.LpVariable('ref_AUS_BH', lowBound=0, cat='Continuous') # refinery in Australia of Crude oil from Brunei, High intensity\n",
    "ref_AUS_IL = pulp.LpVariable('ref_AUS_IL', lowBound=0, cat='Continuous') # refinery in Australia of Crude oil from Iran, Low intensity\n",
    "ref_AUS_IH = pulp.LpVariable('ref_AUS_IH', lowBound=0, cat='Continuous') # refinery in Australia of Crude oil from Iran, High intensity\n",
    "\n",
    "# In Japan\n",
    "ref_JPN_BL = pulp.LpVariable('ref_JPN_BL', lowBound=0, cat='Continuous') # refinery in Japan of Crude oil from Brunei, Low intensity\n",
    "ref_JPN_BH = pulp.LpVariable('ref_JPN_BH', lowBound=0, cat='Continuous') # refinery in Japan of Crude oil from Brunei, High intensity\n",
    "ref_JPN_IL = pulp.LpVariable('ref_JPN_IL', lowBound=0, cat='Continuous') # refinery in Japan of Crude oil from Iran, Low intensity\n",
    "ref_JPN_IH = pulp.LpVariable('ref_JPN_IH', lowBound=0, cat='Continuous') # refinery in Japan of Crude oil from Iran, High intensity\n",
    "\n",
    "# Define shipment variables\n",
    "\n",
    "# shipments of Crude oil\n",
    "ship_C_IRN_AUS = pulp.LpVariable('ship_C_IRN_AUS', lowBound=0, cat='Continuous') # shipment of Crude oil from Iran to Australia\n",
    "ship_C_BRN_AUS = pulp.LpVariable('ship_C_BRN_AUS', lowBound=0, cat='Continuous') # shipment of Crude oil from Brunei to Australia\n",
    "ship_C_IRN_JPN = pulp.LpVariable('ship_C_IRN_JPN', lowBound=0, cat='Continuous') # shipment of Crude oil from Iran to Japan\n",
    "ship_C_BRN_JPN = pulp.LpVariable('ship_C_BRN_JPN', lowBound=0, cat='Continuous') # shipment of Crude oil from Brunei to Japan\n",
    "\n",
    "# shipments of Gasoline\n",
    "ship_G_AUS_PHL = pulp.LpVariable('ship_G_AUS_PHL', lowBound=0, cat='Continuous') # shipment of Gasoline from Australia to the Philippines\n",
    "ship_G_AUS_NZL = pulp.LpVariable('ship_G_AUS_NZL', lowBound=0, cat='Continuous') # shipment of Gasoline from Australia to New Zealand\n",
    "ship_G_JPN_PHL = pulp.LpVariable('ship_G_JPN_PHL', lowBound=0, cat='Continuous') # shipment of Gasoline from Japan to the Philippines\n",
    "ship_G_JPN_NZL = pulp.LpVariable('ship_G_JPN_NZL', lowBound=0, cat='Continuous') # shipment of Gasoline from Japan to New Zealand\n",
    "\n",
    "# shipments of Distillate\n",
    "ship_D_AUS_PHL = pulp.LpVariable('ship_D_AUS_PHL', lowBound=0, cat='Continuous') # shipment of Distillate from Australia to the Philippines\n",
    "ship_D_AUS_NZL = pulp.LpVariable('ship_D_AUS_NZL', lowBound=0, cat='Continuous') # shipment of Distillate from Australia to New Zealand\n",
    "ship_D_JPN_PHL = pulp.LpVariable('ship_D_JPN_PHL', lowBound=0, cat='Continuous') # shipment of Distillate from Japan to the Philippines\n",
    "ship_D_JPN_NZL = pulp.LpVariable('ship_D_JPN_NZL', lowBound=0, cat='Continuous') # shipment of Distillate from Japan to New Zealand\n",
    "ship_D_USA_PHL = pulp.LpVariable('ship_D_USA_PHL', lowBound=0, cat='Continuous') # shipment of Distillate from the USA to the Philippines\n",
    "ship_D_USA_NZL = pulp.LpVariable('ship_D_USA_NZL', lowBound=0, cat='Continuous') # shipment of Distillate from the USA to New Zealand\n",
    "\n",
    "# Define tankers variable\n",
    "charter_tankers = pulp.LpVariable('charter_tankers', lowBound=0, cat='Integer')"
   ]
  },
  {
   "cell_type": "code",
   "execution_count": 4,
   "metadata": {},
   "outputs": [],
   "source": [
    "# production costs\n",
    "prod_costs = 18.5*prod_IRN + 20.5*prod_BRN\n",
    "\n",
    "# refinery costs\n",
    "ref_costs = 0.36*ref_AUS_BL + 0.84*ref_AUS_BH + 0.45*ref_AUS_IL + 0.90*ref_AUS_IH + \\\n",
    "            0.48*ref_JPN_BL + 1.02*ref_JPN_BH + 0.60*ref_JPN_IL + 1.17*ref_JPN_IH\n",
    "\n",
    "# shipment costs\n",
    "ship_costs = 0.78*ship_C_BRN_AUS + 1.86*ship_C_IRN_AUS + 0.72*ship_C_BRN_JPN + 1.77*ship_C_IRN_JPN + \\\n",
    "             0.45*ship_G_AUS_PHL + 0.30*ship_G_AUS_NZL + 0.60*ship_G_JPN_PHL + 0.30*ship_G_JPN_NZL + \\\n",
    "             0.45*ship_D_AUS_PHL + 0.30*ship_D_AUS_NZL + 0.60*ship_D_JPN_PHL + 0.30*ship_D_JPN_NZL + \\\n",
    "             1.65*ship_D_USA_PHL + 2.10*ship_D_USA_NZL + 19.80*ship_D_USA_PHL + 19.80*ship_D_USA_NZL\n",
    "\n",
    "# charter costs\n",
    "charter_costs = 8600*charter_tankers"
   ]
  },
  {
   "cell_type": "code",
   "execution_count": 5,
   "metadata": {},
   "outputs": [],
   "source": [
    "# Objective function\n",
    "model += prod_costs + ref_costs + ship_costs + charter_costs, \"Sum of all operational costs\""
   ]
  },
  {
   "cell_type": "code",
   "execution_count": 6,
   "metadata": {},
   "outputs": [],
   "source": [
    "# production constraints\n",
    "\n",
    "model += prod_IRN <= 60000\n",
    "model += prod_BRN == 40000"
   ]
  },
  {
   "cell_type": "code",
   "execution_count": 7,
   "metadata": {},
   "outputs": [],
   "source": [
    "# refinery constraints\n",
    "\n",
    "model += ref_AUS_BL + ref_AUS_BH + ref_AUS_IL + ref_AUS_IH <= 50000\n",
    "model += ref_JPN_BL + ref_JPN_BH + ref_JPN_IL + ref_JPN_IH <= 30000"
   ]
  },
  {
   "cell_type": "code",
   "execution_count": 8,
   "metadata": {},
   "outputs": [],
   "source": [
    "# shipment constraints\n",
    "\n",
    "model += prod_IRN == ship_C_IRN_AUS + ship_C_IRN_JPN\n",
    "model += prod_BRN == ship_C_BRN_AUS + ship_C_BRN_JPN\n",
    "\n",
    "model += 0.259*ref_AUS_BL + 0.365*ref_AUS_BH + 0.186*ref_AUS_IL + 0.312*ref_AUS_IH == 9000 + ship_G_AUS_PHL + ship_G_AUS_NZL\n",
    "model += 0.688*ref_AUS_BL + 0.573*ref_AUS_BH + 0.732*ref_AUS_IL + 0.608*ref_AUS_IH == 21000 + ship_D_AUS_PHL + ship_D_AUS_NZL\n",
    "\n",
    "model += 0.259*ref_JPN_BL + 0.350*ref_JPN_BH + 0.186*ref_JPN_IL + 0.300*ref_JPN_IH == 3000 + ship_G_JPN_PHL + ship_G_JPN_NZL\n",
    "model += 0.688*ref_JPN_BL + 0.588*ref_JPN_BH + 0.732*ref_JPN_IL + 0.620*ref_JPN_IH == 12000 + ship_D_JPN_PHL + ship_D_JPN_NZL\n",
    "\n",
    "model += ship_D_USA_PHL + ship_D_USA_NZL <= 12000\n",
    "\n",
    "model += ship_G_AUS_PHL + ship_G_JPN_PHL >= 5000\n",
    "model += ship_G_AUS_NZL + ship_G_JPN_NZL >= 5400\n",
    "model += ship_D_AUS_PHL + ship_D_JPN_PHL + ship_D_USA_PHL >= 8000\n",
    "model += ship_D_AUS_NZL + ship_D_JPN_NZL + ship_D_USA_NZL >= 8700\n",
    "\n",
    "model += ref_AUS_BL + ref_AUS_BH == ship_C_BRN_AUS\n",
    "model += ref_AUS_IL + ref_AUS_IH == ship_C_IRN_AUS\n",
    "model += ref_JPN_BL + ref_JPN_BH == ship_C_BRN_JPN\n",
    "model += ref_JPN_IL + ref_JPN_IH == ship_C_IRN_JPN"
   ]
  },
  {
   "cell_type": "code",
   "execution_count": 9,
   "metadata": {},
   "outputs": [],
   "source": [
    "# tanker constraints\n",
    "model += 0.12*ship_C_IRN_AUS + 0.11*ship_C_IRN_JPN + 0.05*ship_C_BRN_AUS + 0.045*ship_C_BRN_JPN + \\\n",
    "         0.02*ship_G_AUS_PHL + 0.02*ship_D_AUS_PHL + \\\n",
    "         0.01*ship_G_JPN_PHL + 0.01*ship_D_JPN_PHL + \\\n",
    "         0.01*ship_G_AUS_NZL + 0.01*ship_D_AUS_NZL + \\\n",
    "         0.06*ship_G_JPN_NZL + 0.06*ship_D_JPN_NZL + \\\n",
    "         0.15*ship_D_USA_PHL + \\\n",
    "         0.18*ship_D_USA_NZL == 6900 + 1000*charter_tankers"
   ]
  },
  {
   "cell_type": "code",
   "execution_count": 10,
   "metadata": {},
   "outputs": [
    {
     "data": {
      "text/plain": [
       "'Optimal'"
      ]
     },
     "execution_count": 10,
     "metadata": {},
     "output_type": "execute_result"
    }
   ],
   "source": [
    "# Solve our problem\n",
    "model.solve()\n",
    "pulp.LpStatus[model.status]"
   ]
  },
  {
   "cell_type": "code",
   "execution_count": 11,
   "metadata": {},
   "outputs": [],
   "source": [
    "import pandas as pd"
   ]
  },
  {
   "cell_type": "code",
   "execution_count": 12,
   "metadata": {},
   "outputs": [
    {
     "data": {
      "text/html": [
       "<div>\n",
       "<style scoped>\n",
       "    .dataframe tbody tr th:only-of-type {\n",
       "        vertical-align: middle;\n",
       "    }\n",
       "\n",
       "    .dataframe tbody tr th {\n",
       "        vertical-align: top;\n",
       "    }\n",
       "\n",
       "    .dataframe thead th {\n",
       "        text-align: right;\n",
       "    }\n",
       "</style>\n",
       "<table border=\"1\" class=\"dataframe\">\n",
       "  <thead>\n",
       "    <tr style=\"text-align: right;\">\n",
       "      <th></th>\n",
       "      <th>Supply volume, bbl</th>\n",
       "    </tr>\n",
       "    <tr>\n",
       "      <th>Source</th>\n",
       "      <th></th>\n",
       "    </tr>\n",
       "  </thead>\n",
       "  <tbody>\n",
       "    <tr>\n",
       "      <th>Iran</th>\n",
       "      <td>32718</td>\n",
       "    </tr>\n",
       "    <tr>\n",
       "      <th>Brunei</th>\n",
       "      <td>40000</td>\n",
       "    </tr>\n",
       "  </tbody>\n",
       "</table>\n",
       "</div>"
      ],
      "text/plain": [
       "        Supply volume, bbl\n",
       "Source                    \n",
       "Iran                 32718\n",
       "Brunei               40000"
      ]
     },
     "execution_count": 12,
     "metadata": {},
     "output_type": "execute_result"
    }
   ],
   "source": [
    "prod_dv = pd.DataFrame([['Iran', prod_IRN.varValue], \n",
    "                        ['Brunei', prod_BRN.varValue]], \n",
    "                        columns = ['Source', 'Supply volume, bbl']).set_index('Source').round().astype(int)\n",
    "prod_dv"
   ]
  },
  {
   "cell_type": "code",
   "execution_count": 13,
   "metadata": {},
   "outputs": [
    {
     "data": {
      "text/html": [
       "<div>\n",
       "<style scoped>\n",
       "    .dataframe tbody tr th:only-of-type {\n",
       "        vertical-align: middle;\n",
       "    }\n",
       "\n",
       "    .dataframe tbody tr th {\n",
       "        vertical-align: top;\n",
       "    }\n",
       "\n",
       "    .dataframe thead th {\n",
       "        text-align: right;\n",
       "    }\n",
       "</style>\n",
       "<table border=\"1\" class=\"dataframe\">\n",
       "  <thead>\n",
       "    <tr style=\"text-align: right;\">\n",
       "      <th></th>\n",
       "      <th></th>\n",
       "      <th>Refinery volume in Australia, bbl</th>\n",
       "    </tr>\n",
       "    <tr>\n",
       "      <th>Location</th>\n",
       "      <th>Intensity</th>\n",
       "      <th></th>\n",
       "    </tr>\n",
       "  </thead>\n",
       "  <tbody>\n",
       "    <tr>\n",
       "      <th rowspan=\"2\" valign=\"top\">Brunei</th>\n",
       "      <th>High</th>\n",
       "      <td>17282</td>\n",
       "    </tr>\n",
       "    <tr>\n",
       "      <th>Low</th>\n",
       "      <td>0</td>\n",
       "    </tr>\n",
       "    <tr>\n",
       "      <th rowspan=\"2\" valign=\"top\">Iran</th>\n",
       "      <th>High</th>\n",
       "      <td>32718</td>\n",
       "    </tr>\n",
       "    <tr>\n",
       "      <th>Low</th>\n",
       "      <td>0</td>\n",
       "    </tr>\n",
       "  </tbody>\n",
       "</table>\n",
       "</div>"
      ],
      "text/plain": [
       "                    Refinery volume in Australia, bbl\n",
       "Location Intensity                                   \n",
       "Brunei   High                                   17282\n",
       "         Low                                        0\n",
       "Iran     High                                   32718\n",
       "         Low                                        0"
      ]
     },
     "execution_count": 13,
     "metadata": {},
     "output_type": "execute_result"
    }
   ],
   "source": [
    "ref_AUS = pd.DataFrame([['Brunei', 'High', ref_AUS_BH.varValue],\n",
    "                        ['Brunei', 'Low', ref_AUS_BL.varValue], \n",
    "                        ['Iran', 'High', ref_AUS_IH.varValue],\n",
    "                        ['Iran', 'Low', ref_AUS_IL.varValue]], \n",
    "                        columns = ['Location', 'Intensity', 'Refinery volume in Australia, bbl']).set_index(['Location', 'Intensity']).round().astype(int)\n",
    "ref_AUS"
   ]
  },
  {
   "cell_type": "code",
   "execution_count": 14,
   "metadata": {},
   "outputs": [
    {
     "data": {
      "text/html": [
       "<div>\n",
       "<style scoped>\n",
       "    .dataframe tbody tr th:only-of-type {\n",
       "        vertical-align: middle;\n",
       "    }\n",
       "\n",
       "    .dataframe tbody tr th {\n",
       "        vertical-align: top;\n",
       "    }\n",
       "\n",
       "    .dataframe thead th {\n",
       "        text-align: right;\n",
       "    }\n",
       "</style>\n",
       "<table border=\"1\" class=\"dataframe\">\n",
       "  <thead>\n",
       "    <tr style=\"text-align: right;\">\n",
       "      <th></th>\n",
       "      <th></th>\n",
       "      <th>Refinery volume in Japan, bbl</th>\n",
       "    </tr>\n",
       "    <tr>\n",
       "      <th>Location</th>\n",
       "      <th>Intensity</th>\n",
       "      <th></th>\n",
       "    </tr>\n",
       "  </thead>\n",
       "  <tbody>\n",
       "    <tr>\n",
       "      <th rowspan=\"2\" valign=\"top\">Brunei</th>\n",
       "      <th>High</th>\n",
       "      <td>0</td>\n",
       "    </tr>\n",
       "    <tr>\n",
       "      <th>Low</th>\n",
       "      <td>22718</td>\n",
       "    </tr>\n",
       "    <tr>\n",
       "      <th rowspan=\"2\" valign=\"top\">Iran</th>\n",
       "      <th>High</th>\n",
       "      <td>0</td>\n",
       "    </tr>\n",
       "    <tr>\n",
       "      <th>Low</th>\n",
       "      <td>0</td>\n",
       "    </tr>\n",
       "  </tbody>\n",
       "</table>\n",
       "</div>"
      ],
      "text/plain": [
       "                    Refinery volume in Japan, bbl\n",
       "Location Intensity                               \n",
       "Brunei   High                                   0\n",
       "         Low                                22718\n",
       "Iran     High                                   0\n",
       "         Low                                    0"
      ]
     },
     "execution_count": 14,
     "metadata": {},
     "output_type": "execute_result"
    }
   ],
   "source": [
    "ref_JPN = pd.DataFrame([['Brunei', 'High', ref_JPN_BH.varValue],\n",
    "                        ['Brunei', 'Low', ref_JPN_BL.varValue], \n",
    "                        ['Iran', 'High', ref_JPN_IH.varValue],\n",
    "                        ['Iran', 'Low', ref_JPN_IL.varValue]], \n",
    "                        columns = ['Location', 'Intensity', 'Refinery volume in Japan, bbl']).set_index(['Location', 'Intensity']).round().astype(int)\n",
    "ref_JPN"
   ]
  },
  {
   "cell_type": "code",
   "execution_count": 15,
   "metadata": {},
   "outputs": [
    {
     "data": {
      "text/html": [
       "<div>\n",
       "<style scoped>\n",
       "    .dataframe tbody tr th:only-of-type {\n",
       "        vertical-align: middle;\n",
       "    }\n",
       "\n",
       "    .dataframe tbody tr th {\n",
       "        vertical-align: top;\n",
       "    }\n",
       "\n",
       "    .dataframe thead th {\n",
       "        text-align: right;\n",
       "    }\n",
       "</style>\n",
       "<table border=\"1\" class=\"dataframe\">\n",
       "  <thead>\n",
       "    <tr style=\"text-align: right;\">\n",
       "      <th></th>\n",
       "      <th>Australia</th>\n",
       "      <th>Japan</th>\n",
       "    </tr>\n",
       "    <tr>\n",
       "      <th>from/to</th>\n",
       "      <th></th>\n",
       "      <th></th>\n",
       "    </tr>\n",
       "  </thead>\n",
       "  <tbody>\n",
       "    <tr>\n",
       "      <th>Brunei</th>\n",
       "      <td>17282</td>\n",
       "      <td>22718</td>\n",
       "    </tr>\n",
       "    <tr>\n",
       "      <th>Iran</th>\n",
       "      <td>32718</td>\n",
       "      <td>0</td>\n",
       "    </tr>\n",
       "  </tbody>\n",
       "</table>\n",
       "</div>"
      ],
      "text/plain": [
       "         Australia  Japan\n",
       "from/to                  \n",
       "Brunei       17282  22718\n",
       "Iran         32718      0"
      ]
     },
     "execution_count": 15,
     "metadata": {},
     "output_type": "execute_result"
    }
   ],
   "source": [
    "ship_C = pd.DataFrame([['Brunei', ship_C_BRN_AUS.varValue, ship_C_BRN_JPN.varValue],\n",
    "                       ['Iran', ship_C_IRN_AUS.varValue, ship_C_IRN_JPN.varValue]],\n",
    "                       columns = ['from/to', 'Australia', 'Japan']).set_index('from/to').round().astype(int)\n",
    "ship_C"
   ]
  },
  {
   "cell_type": "code",
   "execution_count": 16,
   "metadata": {},
   "outputs": [
    {
     "name": "stdout",
     "output_type": "stream",
     "text": [
      "Shipments of distillate\n"
     ]
    },
    {
     "data": {
      "text/html": [
       "<div>\n",
       "<style scoped>\n",
       "    .dataframe tbody tr th:only-of-type {\n",
       "        vertical-align: middle;\n",
       "    }\n",
       "\n",
       "    .dataframe tbody tr th {\n",
       "        vertical-align: top;\n",
       "    }\n",
       "\n",
       "    .dataframe thead th {\n",
       "        text-align: right;\n",
       "    }\n",
       "</style>\n",
       "<table border=\"1\" class=\"dataframe\">\n",
       "  <thead>\n",
       "    <tr style=\"text-align: right;\">\n",
       "      <th></th>\n",
       "      <th>New Zealand</th>\n",
       "      <th>Philippines</th>\n",
       "    </tr>\n",
       "    <tr>\n",
       "      <th>from/to</th>\n",
       "      <th></th>\n",
       "      <th></th>\n",
       "    </tr>\n",
       "  </thead>\n",
       "  <tbody>\n",
       "    <tr>\n",
       "      <th>Australia</th>\n",
       "      <td>8320</td>\n",
       "      <td>475</td>\n",
       "    </tr>\n",
       "    <tr>\n",
       "      <th>Japan</th>\n",
       "      <td>380</td>\n",
       "      <td>3251</td>\n",
       "    </tr>\n",
       "    <tr>\n",
       "      <th>USA</th>\n",
       "      <td>0</td>\n",
       "      <td>4275</td>\n",
       "    </tr>\n",
       "  </tbody>\n",
       "</table>\n",
       "</div>"
      ],
      "text/plain": [
       "           New Zealand  Philippines\n",
       "from/to                            \n",
       "Australia         8320          475\n",
       "Japan              380         3251\n",
       "USA                  0         4275"
      ]
     },
     "execution_count": 16,
     "metadata": {},
     "output_type": "execute_result"
    }
   ],
   "source": [
    "ship_D = pd.DataFrame([['Australia', ship_D_AUS_NZL.varValue, ship_D_AUS_PHL.varValue],\n",
    "                       ['Japan', ship_D_JPN_NZL.varValue, ship_D_JPN_PHL.varValue],\n",
    "                       ['USA', ship_D_USA_NZL.varValue, ship_D_USA_PHL.varValue]],\n",
    "                       columns = ['from/to', 'New Zealand', 'Philippines']).set_index('from/to').round().astype(int)\n",
    "print('Shipments of distillate')\n",
    "ship_D"
   ]
  },
  {
   "cell_type": "code",
   "execution_count": 17,
   "metadata": {},
   "outputs": [
    {
     "name": "stdout",
     "output_type": "stream",
     "text": [
      "Shipments of gasoline\n"
     ]
    },
    {
     "data": {
      "text/html": [
       "<div>\n",
       "<style scoped>\n",
       "    .dataframe tbody tr th:only-of-type {\n",
       "        vertical-align: middle;\n",
       "    }\n",
       "\n",
       "    .dataframe tbody tr th {\n",
       "        vertical-align: top;\n",
       "    }\n",
       "\n",
       "    .dataframe thead th {\n",
       "        text-align: right;\n",
       "    }\n",
       "</style>\n",
       "<table border=\"1\" class=\"dataframe\">\n",
       "  <thead>\n",
       "    <tr style=\"text-align: right;\">\n",
       "      <th></th>\n",
       "      <th>New Zealand</th>\n",
       "      <th>Philippines</th>\n",
       "    </tr>\n",
       "    <tr>\n",
       "      <th>from/to</th>\n",
       "      <th></th>\n",
       "      <th></th>\n",
       "    </tr>\n",
       "  </thead>\n",
       "  <tbody>\n",
       "    <tr>\n",
       "      <th>Australia</th>\n",
       "      <td>2516</td>\n",
       "      <td>5000</td>\n",
       "    </tr>\n",
       "    <tr>\n",
       "      <th>Japan</th>\n",
       "      <td>2884</td>\n",
       "      <td>0</td>\n",
       "    </tr>\n",
       "  </tbody>\n",
       "</table>\n",
       "</div>"
      ],
      "text/plain": [
       "           New Zealand  Philippines\n",
       "from/to                            \n",
       "Australia         2516         5000\n",
       "Japan             2884            0"
      ]
     },
     "execution_count": 17,
     "metadata": {},
     "output_type": "execute_result"
    }
   ],
   "source": [
    "ship_G = pd.DataFrame([['Australia', ship_G_AUS_NZL.varValue, ship_G_AUS_PHL.varValue],\n",
    "                       ['Japan', ship_G_JPN_NZL.varValue, ship_G_JPN_PHL.varValue]],\n",
    "                       columns = ['from/to', 'New Zealand', 'Philippines']).set_index('from/to').round().astype(int)\n",
    "print('Shipments of gasoline')\n",
    "ship_G"
   ]
  },
  {
   "cell_type": "code",
   "execution_count": 18,
   "metadata": {},
   "outputs": [
    {
     "name": "stdout",
     "output_type": "stream",
     "text": [
      "Total costs are $1671186\n"
     ]
    }
   ],
   "source": [
    "# Print our objective function value\n",
    "print('Total costs are $%.0f' % pulp.value(model.objective))"
   ]
  },
  {
   "cell_type": "code",
   "execution_count": 19,
   "metadata": {},
   "outputs": [
    {
     "name": "stdout",
     "output_type": "stream",
     "text": [
      "We use 6900 bbl capacity of our own fleet\n",
      "We use 0 charter tankers\n"
     ]
    }
   ],
   "source": [
    "used_capacity = 0.12*ship_C_IRN_AUS.varValue + 0.11*ship_C_IRN_JPN.varValue + 0.05*ship_C_BRN_AUS.varValue + 0.045*ship_C_BRN_JPN.varValue + \\\n",
    "                0.02*ship_G_AUS_PHL.varValue + 0.02*ship_D_AUS_PHL.varValue + \\\n",
    "                0.01*ship_G_JPN_PHL.varValue + 0.01*ship_D_JPN_PHL.varValue + \\\n",
    "                0.01*ship_G_AUS_NZL.varValue + 0.01*ship_D_AUS_NZL.varValue + \\\n",
    "                0.06*ship_G_JPN_NZL.varValue + 0.06*ship_D_JPN_NZL.varValue + \\\n",
    "                0.15*ship_D_USA_PHL.varValue + \\\n",
    "                0.18*ship_D_USA_NZL.varValue\n",
    "\n",
    "print('We use %.0f bbl capacity of our own fleet' % used_capacity)\n",
    "print('We use %.0f charter tankers' % charter_tankers.varValue)"
   ]
  },
  {
   "cell_type": "code",
   "execution_count": 20,
   "metadata": {},
   "outputs": [
    {
     "data": {
      "text/plain": [
       "Cost Minimization problem:\n",
       "MINIMIZE\n",
       "8600*charter_tankers + 20.5*prod_BRN + 18.5*prod_IRN + 0.84*ref_AUS_BH + 0.36*ref_AUS_BL + 0.9*ref_AUS_IH + 0.45*ref_AUS_IL + 1.02*ref_JPN_BH + 0.48*ref_JPN_BL + 1.17*ref_JPN_IH + 0.6*ref_JPN_IL + 0.78*ship_C_BRN_AUS + 0.72*ship_C_BRN_JPN + 1.86*ship_C_IRN_AUS + 1.77*ship_C_IRN_JPN + 0.3*ship_D_AUS_NZL + 0.45*ship_D_AUS_PHL + 0.3*ship_D_JPN_NZL + 0.6*ship_D_JPN_PHL + 21.900000000000002*ship_D_USA_NZL + 21.45*ship_D_USA_PHL + 0.3*ship_G_AUS_NZL + 0.45*ship_G_AUS_PHL + 0.3*ship_G_JPN_NZL + 0.6*ship_G_JPN_PHL + 0.0\n",
       "SUBJECT TO\n",
       "_C1: prod_IRN <= 60000\n",
       "\n",
       "_C2: prod_BRN = 40000\n",
       "\n",
       "_C3: ref_AUS_BH + ref_AUS_BL + ref_AUS_IH + ref_AUS_IL <= 50000\n",
       "\n",
       "_C4: ref_JPN_BH + ref_JPN_BL + ref_JPN_IH + ref_JPN_IL <= 30000\n",
       "\n",
       "_C5: prod_IRN - ship_C_IRN_AUS - ship_C_IRN_JPN = 0\n",
       "\n",
       "_C6: prod_BRN - ship_C_BRN_AUS - ship_C_BRN_JPN = 0\n",
       "\n",
       "_C7: 0.365 ref_AUS_BH + 0.259 ref_AUS_BL + 0.312 ref_AUS_IH + 0.186 ref_AUS_IL\n",
       " - ship_G_AUS_NZL - ship_G_AUS_PHL = 9000\n",
       "\n",
       "_C8: 0.573 ref_AUS_BH + 0.688 ref_AUS_BL + 0.608 ref_AUS_IH + 0.732 ref_AUS_IL\n",
       " - ship_D_AUS_NZL - ship_D_AUS_PHL = 21000\n",
       "\n",
       "_C9: 0.35 ref_JPN_BH + 0.259 ref_JPN_BL + 0.3 ref_JPN_IH + 0.186 ref_JPN_IL\n",
       " - ship_G_JPN_NZL - ship_G_JPN_PHL = 3000\n",
       "\n",
       "_C10: 0.588 ref_JPN_BH + 0.688 ref_JPN_BL + 0.62 ref_JPN_IH + 0.732 ref_JPN_IL\n",
       " - ship_D_JPN_NZL - ship_D_JPN_PHL = 12000\n",
       "\n",
       "_C11: ship_D_USA_NZL + ship_D_USA_PHL <= 12000\n",
       "\n",
       "_C12: ship_G_AUS_PHL + ship_G_JPN_PHL >= 5000\n",
       "\n",
       "_C13: ship_G_AUS_NZL + ship_G_JPN_NZL >= 5400\n",
       "\n",
       "_C14: ship_D_AUS_PHL + ship_D_JPN_PHL + ship_D_USA_PHL >= 8000\n",
       "\n",
       "_C15: ship_D_AUS_NZL + ship_D_JPN_NZL + ship_D_USA_NZL >= 8700\n",
       "\n",
       "_C16: ref_AUS_BH + ref_AUS_BL - ship_C_BRN_AUS = 0\n",
       "\n",
       "_C17: ref_AUS_IH + ref_AUS_IL - ship_C_IRN_AUS = 0\n",
       "\n",
       "_C18: ref_JPN_BH + ref_JPN_BL - ship_C_BRN_JPN = 0\n",
       "\n",
       "_C19: ref_JPN_IH + ref_JPN_IL - ship_C_IRN_JPN = 0\n",
       "\n",
       "_C20: - 1000 charter_tankers + 0.05 ship_C_BRN_AUS + 0.045 ship_C_BRN_JPN\n",
       " + 0.12 ship_C_IRN_AUS + 0.11 ship_C_IRN_JPN + 0.01 ship_D_AUS_NZL\n",
       " + 0.02 ship_D_AUS_PHL + 0.06 ship_D_JPN_NZL + 0.01 ship_D_JPN_PHL\n",
       " + 0.18 ship_D_USA_NZL + 0.15 ship_D_USA_PHL + 0.01 ship_G_AUS_NZL\n",
       " + 0.02 ship_G_AUS_PHL + 0.06 ship_G_JPN_NZL + 0.01 ship_G_JPN_PHL = 6900\n",
       "\n",
       "VARIABLES\n",
       "0 <= charter_tankers Integer\n",
       "prod_BRN Continuous\n",
       "prod_IRN Continuous\n",
       "ref_AUS_BH Continuous\n",
       "ref_AUS_BL Continuous\n",
       "ref_AUS_IH Continuous\n",
       "ref_AUS_IL Continuous\n",
       "ref_JPN_BH Continuous\n",
       "ref_JPN_BL Continuous\n",
       "ref_JPN_IH Continuous\n",
       "ref_JPN_IL Continuous\n",
       "ship_C_BRN_AUS Continuous\n",
       "ship_C_BRN_JPN Continuous\n",
       "ship_C_IRN_AUS Continuous\n",
       "ship_C_IRN_JPN Continuous\n",
       "ship_D_AUS_NZL Continuous\n",
       "ship_D_AUS_PHL Continuous\n",
       "ship_D_JPN_NZL Continuous\n",
       "ship_D_JPN_PHL Continuous\n",
       "ship_D_USA_NZL Continuous\n",
       "ship_D_USA_PHL Continuous\n",
       "ship_G_AUS_NZL Continuous\n",
       "ship_G_AUS_PHL Continuous\n",
       "ship_G_JPN_NZL Continuous\n",
       "ship_G_JPN_PHL Continuous"
      ]
     },
     "execution_count": 20,
     "metadata": {},
     "output_type": "execute_result"
    }
   ],
   "source": [
    "model"
   ]
  }
 ],
 "metadata": {
  "kernelspec": {
   "display_name": "Python 3",
   "language": "python",
   "name": "python3"
  },
  "language_info": {
   "codemirror_mode": {
    "name": "ipython",
    "version": 3
   },
   "file_extension": ".py",
   "mimetype": "text/x-python",
   "name": "python",
   "nbconvert_exporter": "python",
   "pygments_lexer": "ipython3",
   "version": "3.6.5"
  }
 },
 "nbformat": 4,
 "nbformat_minor": 2
}
